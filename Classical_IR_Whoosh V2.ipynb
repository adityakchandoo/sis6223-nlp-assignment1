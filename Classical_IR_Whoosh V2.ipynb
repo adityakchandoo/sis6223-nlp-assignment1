{
  "cells": [
    {
      "cell_type": "markdown",
      "metadata": {
        "id": "fcbeba97"
      },
      "source": [
        "# Classical IR — TF-IDF & BM25 (Whoosh) with Evaluation Metrics and Query Sets\n",
        "\n",
        "This notebook demonstrates:\n",
        "\n",
        "- A TF-IDF vector-space baseline (scikit-learn)\n",
        "- BM25 retrieval using **Whoosh** (pure-Python)\n",
        "- Two query categories: *Terminological* and *Conceptual*\n",
        "- Evaluation metrics: Precision@k, MAP (mean average precision), nDCG@k\n",
        "- Plots comparing models overall and by query type\n",
        "\n",
        "Replace `SAMPLE_DOCS`, queries, and `QRELS` with your real corpus and labels.\n"
      ],
      "id": "fcbeba97"
    },
    {
      "cell_type": "markdown",
      "metadata": {
        "id": "1acc540f"
      },
      "source": [
        "## ✅ Query Design\n",
        "We prepare two categories of queries:\n",
        "\n",
        "- **Terminological Queries**: precise, keyword-driven. Expect classical models (BM25/TF-IDF) to perform well.\n",
        "- **Conceptual Queries**: higher-level, semantic. Expect neural models to have advantage (to be added later).\n",
        "\n",
        "Below are example queries tailored to the small sample corpus; you should craft ~5–10 of each type for your real experiments."
      ],
      "id": "1acc540f"
    },
    {
      "cell_type": "code",
      "execution_count": 1,
      "id": "229f5c94",
      "metadata": {
        "colab": {
          "base_uri": "https://localhost:8080/"
        },
        "id": "229f5c94",
        "outputId": "eafeaa06-2791-4d87-b153-d2f4f0210a1d"
      },
      "outputs": [
        {
          "output_type": "stream",
          "name": "stdout",
          "text": [
            "Prepared 5 terminological and 5 conceptual queries. Total queries: 10\n"
          ]
        }
      ],
      "source": [
        "# --- Sample preprocessed corpus (replace with your own) ---\n",
        "SAMPLE_DOCS = [\n",
        "    \"security council discuss peacekeeper mandate west africa focus training logistics\",\n",
        "    \"resolution stipulation address political process ceasefire syria include humanitarian corridor\",\n",
        "    \"sanction arm trade tighten reduce illicit flow destabilize region\",\n",
        "    \"nuclear nonproliferation discussion emphasize verification international cooperation framework\",\n",
        "    \"counterterrorism committee mandate state reporting requirement national measure\",\n",
        "    \"blue helmet deployment rule update include better equipment medical support\",\n",
        "    \"human right reporting requirement include regular briefing independent monitoring mission\",\n",
        "    \"ceasefire monitoring mission extend presence conflict zone ensure compliance\",\n",
        "    \"women peace security agenda highlight participation protection peace process\",\n",
        "    \"humanitarian corridor syria coordinate allow aid delivery besieged area\",\n",
        "]\n",
        "\n",
        "# Terminological (keyword-focused) queries\n",
        "TERMINOLOGICAL_QUERIES = [\n",
        "    \"peacekeeper mandate west africa\",\n",
        "    \"resolution stipulation syria\",\n",
        "    \"sanctions arms trade\",\n",
        "    \"nuclear nonproliferation verification\",\n",
        "    \"counterterrorism committee reporting\",\n",
        "]\n",
        "\n",
        "# Conceptual (semantic / broader intent) queries\n",
        "CONCEPTUAL_QUERIES = [\n",
        "    \"documents about humanitarian aid access in syria\",\n",
        "    \"policies for deploying peacekeepers and their equipment\",\n",
        "    \"monitoring missions that ensure ceasefire compliance\",\n",
        "    \"reports on human rights monitoring and independent briefings\",\n",
        "    \"agenda on women's participation in peace processes\",\n",
        "]\n",
        "\n",
        "# Merge for evaluation (we keep order and remember indices)\n",
        "SAMPLE_QUERIES = TERMINOLOGICAL_QUERIES + CONCEPTUAL_QUERIES\n",
        "\n",
        "# Example QRELS (0-based doc indices) - replace with your own relevance labels\n",
        "QRELS = {\n",
        "    0: {0},\n",
        "    1: {1},\n",
        "    2: {2},\n",
        "    3: {3},\n",
        "    4: {4},\n",
        "    5: {1,9},\n",
        "    6: {0,5},\n",
        "    7: {1,7},\n",
        "    8: {6},\n",
        "    9: {8},\n",
        "}\n",
        "\n",
        "TOP_K = 5\n",
        "print(f'Prepared {len(TERMINOLOGICAL_QUERIES)} terminological and {len(CONCEPTUAL_QUERIES)} conceptual queries. Total queries: {len(SAMPLE_QUERIES)}')\n"
      ]
    },
    {
      "cell_type": "markdown",
      "id": "56ca5416",
      "metadata": {
        "id": "56ca5416"
      },
      "source": [
        "## Install & imports"
      ]
    },
    {
      "cell_type": "code",
      "source": [
        "# Install\n",
        "!pip install whoosh scikit-learn pandas matplotlib"
      ],
      "metadata": {
        "colab": {
          "base_uri": "https://localhost:8080/"
        },
        "id": "lC_WSR8e4BIi",
        "outputId": "477dbb5f-f51d-430b-9265-4ab9bfc542bd"
      },
      "id": "lC_WSR8e4BIi",
      "execution_count": 4,
      "outputs": [
        {
          "output_type": "stream",
          "name": "stdout",
          "text": [
            "Collecting whoosh\n",
            "  Downloading Whoosh-2.7.4-py2.py3-none-any.whl.metadata (3.1 kB)\n",
            "Requirement already satisfied: scikit-learn in /usr/local/lib/python3.12/dist-packages (1.6.1)\n",
            "Requirement already satisfied: pandas in /usr/local/lib/python3.12/dist-packages (2.2.2)\n",
            "Requirement already satisfied: matplotlib in /usr/local/lib/python3.12/dist-packages (3.10.0)\n",
            "Requirement already satisfied: numpy>=1.19.5 in /usr/local/lib/python3.12/dist-packages (from scikit-learn) (2.0.2)\n",
            "Requirement already satisfied: scipy>=1.6.0 in /usr/local/lib/python3.12/dist-packages (from scikit-learn) (1.16.1)\n",
            "Requirement already satisfied: joblib>=1.2.0 in /usr/local/lib/python3.12/dist-packages (from scikit-learn) (1.5.2)\n",
            "Requirement already satisfied: threadpoolctl>=3.1.0 in /usr/local/lib/python3.12/dist-packages (from scikit-learn) (3.6.0)\n",
            "Requirement already satisfied: python-dateutil>=2.8.2 in /usr/local/lib/python3.12/dist-packages (from pandas) (2.9.0.post0)\n",
            "Requirement already satisfied: pytz>=2020.1 in /usr/local/lib/python3.12/dist-packages (from pandas) (2025.2)\n",
            "Requirement already satisfied: tzdata>=2022.7 in /usr/local/lib/python3.12/dist-packages (from pandas) (2025.2)\n",
            "Requirement already satisfied: contourpy>=1.0.1 in /usr/local/lib/python3.12/dist-packages (from matplotlib) (1.3.3)\n",
            "Requirement already satisfied: cycler>=0.10 in /usr/local/lib/python3.12/dist-packages (from matplotlib) (0.12.1)\n",
            "Requirement already satisfied: fonttools>=4.22.0 in /usr/local/lib/python3.12/dist-packages (from matplotlib) (4.59.2)\n",
            "Requirement already satisfied: kiwisolver>=1.3.1 in /usr/local/lib/python3.12/dist-packages (from matplotlib) (1.4.9)\n",
            "Requirement already satisfied: packaging>=20.0 in /usr/local/lib/python3.12/dist-packages (from matplotlib) (25.0)\n",
            "Requirement already satisfied: pillow>=8 in /usr/local/lib/python3.12/dist-packages (from matplotlib) (11.3.0)\n",
            "Requirement already satisfied: pyparsing>=2.3.1 in /usr/local/lib/python3.12/dist-packages (from matplotlib) (3.2.3)\n",
            "Requirement already satisfied: six>=1.5 in /usr/local/lib/python3.12/dist-packages (from python-dateutil>=2.8.2->pandas) (1.17.0)\n",
            "Downloading Whoosh-2.7.4-py2.py3-none-any.whl (468 kB)\n",
            "\u001b[2K   \u001b[90m━━━━━━━━━━━━━━━━━━━━━━━━━━━━━━━━━━━━━━━━\u001b[0m \u001b[32m468.8/468.8 kB\u001b[0m \u001b[31m7.6 MB/s\u001b[0m eta \u001b[36m0:00:00\u001b[0m\n",
            "\u001b[?25hInstalling collected packages: whoosh\n",
            "Successfully installed whoosh-2.7.4\n"
          ]
        }
      ]
    },
    {
      "cell_type": "code",
      "execution_count": 5,
      "id": "29150452",
      "metadata": {
        "id": "29150452"
      },
      "outputs": [],
      "source": [
        "from typing import List, Dict, Set\n",
        "import math, numpy as np, pandas as pd, matplotlib.pyplot as plt\n",
        "from sklearn.feature_extraction.text import TfidfVectorizer\n",
        "from sklearn.metrics.pairwise import cosine_similarity\n",
        "\n",
        "# Whoosh imports\n",
        "from whoosh import index, fields, qparser, scoring, analysis\n",
        "from whoosh.index import create_in, open_dir\n",
        "import os, shutil, tempfile\n"
      ]
    },
    {
      "cell_type": "markdown",
      "id": "222c6556",
      "metadata": {
        "id": "222c6556"
      },
      "source": [
        "## Build TF-IDF baseline (scikit-learn)"
      ]
    },
    {
      "cell_type": "code",
      "execution_count": 6,
      "id": "c92998f2",
      "metadata": {
        "colab": {
          "base_uri": "https://localhost:8080/"
        },
        "id": "c92998f2",
        "outputId": "3bf32d3d-92d5-4a00-f7e3-239435a44972"
      },
      "outputs": [
        {
          "output_type": "stream",
          "name": "stdout",
          "text": [
            "Built TF-IDF matrix shape: (10, 78)\n"
          ]
        }
      ],
      "source": [
        "# TF-IDF vectorizer: we assume input is preprocessed so we use whitespace tokenizer\n",
        "vectorizer = TfidfVectorizer(lowercase=False, tokenizer=str.split, preprocessor=None, token_pattern=None)\n",
        "X = vectorizer.fit_transform(SAMPLE_DOCS)\n",
        "print('Built TF-IDF matrix shape:', X.shape)"
      ]
    },
    {
      "cell_type": "markdown",
      "id": "f1009e20",
      "metadata": {
        "id": "f1009e20"
      },
      "source": [
        "## Create Whoosh index (BM25) and add documents"
      ]
    },
    {
      "cell_type": "code",
      "execution_count": 7,
      "id": "6b11db10",
      "metadata": {
        "colab": {
          "base_uri": "https://localhost:8080/"
        },
        "id": "6b11db10",
        "outputId": "e2b0d39e-61f5-46e7-fa1c-79953a5b39c0"
      },
      "outputs": [
        {
          "output_type": "stream",
          "name": "stdout",
          "text": [
            "Whoosh index created at /tmp/whoosh_mini_ir_index_only\n"
          ]
        }
      ],
      "source": [
        "# Create Whoosh index in a temporary directory\n",
        "schema = fields.Schema(doc_id=fields.ID(stored=True, unique=True),\n",
        "                       content=fields.TEXT(stored=True, analyzer=analysis.SimpleAnalyzer()))\n",
        "\n",
        "index_dir = os.path.join(tempfile.gettempdir(), \"whoosh_mini_ir_index_only\")\n",
        "if os.path.exists(index_dir):\n",
        "    shutil.rmtree(index_dir)\n",
        "os.makedirs(index_dir, exist_ok=True)\n",
        "ix = create_in(index_dir, schema)\n",
        "writer = ix.writer()\n",
        "\n",
        "for i, text in enumerate(SAMPLE_DOCS):\n",
        "    writer.add_document(doc_id=str(i), content=text)\n",
        "writer.commit()\n",
        "print('Whoosh index created at', index_dir)"
      ]
    },
    {
      "cell_type": "markdown",
      "id": "9340abb3",
      "metadata": {
        "id": "9340abb3"
      },
      "source": [
        "## Search Whoosh using BM25F scoring\n",
        "\n",
        "Whoosh implements BM25-like scoring via `scoring.BM25F`. We set parameters `K1` and `B` below."
      ]
    },
    {
      "cell_type": "code",
      "execution_count": 8,
      "id": "a740a67b",
      "metadata": {
        "colab": {
          "base_uri": "https://localhost:8080/"
        },
        "id": "a740a67b",
        "outputId": "6cf38ba6-6ded-42ab-d329-138d4c26c7d7"
      },
      "outputs": [
        {
          "output_type": "stream",
          "name": "stdout",
          "text": [
            "Whoosh example search: [(0, 9.654501692780311, 'security council discuss peacekeeper mandate west africa focus training logistics')]\n"
          ]
        }
      ],
      "source": [
        "# Search function using Whoosh BM25F\n",
        "def search_whoosh(query: str, top_k: int = 10, k1: float = 1.5, b: float = 0.75):\n",
        "    with ix.searcher(weighting=scoring.BM25F(B=b, K1=k1)) as searcher:\n",
        "        qp = qparser.QueryParser(\"content\", schema=ix.schema)\n",
        "        # Use 'AND' operator for strict matching and Change to 'OR' to be looser.\n",
        "        qp.remove_plugin_class(qparser.WildcardPlugin)  # To keep parser as simple as possible\n",
        "        q = qp.parse(query)\n",
        "        hits = searcher.search(q, limit=top_k)\n",
        "        results = []\n",
        "        for h in hits:\n",
        "            doc_idx = int(h['doc_id'])\n",
        "            score = float(h.score)\n",
        "            snippet = h['content'][:300]\n",
        "            results.append((doc_idx, score, snippet))\n",
        "        return results\n",
        "\n",
        "# Quick sample example\n",
        "print('Whoosh example search:', search_whoosh('peacekeeper mandate west africa', top_k=5)[:3])"
      ]
    },
    {
      "cell_type": "markdown",
      "id": "7fc500e2",
      "metadata": {
        "id": "7fc500e2"
      },
      "source": [
        "## Unified ranking functions (TF-IDF & Whoosh BM25)"
      ]
    },
    {
      "cell_type": "code",
      "execution_count": 9,
      "id": "cd2d9e62",
      "metadata": {
        "id": "cd2d9e62"
      },
      "outputs": [],
      "source": [
        "def rank_tfidf(query: str, top_k: int = 10):\n",
        "    q_vec = vectorizer.transform([query])\n",
        "    sims = cosine_similarity(q_vec, X)[0]\n",
        "    ranked_idx = sims.argsort()[::-1][:top_k]\n",
        "    return [(int(i), float(s)) for i, s in zip(ranked_idx, sims[ranked_idx])]\n",
        "\n",
        "def rank_bm25_whoosh(query: str, top_k: int = 10):\n",
        "    res = search_whoosh(query, top_k=top_k)\n",
        "    return [(int(r[0]), float(r[1])) for r in res]"
      ]
    },
    {
      "cell_type": "markdown",
      "id": "9fb63d97",
      "metadata": {
        "id": "9fb63d97"
      },
      "source": [
        "## Evaluation metrics (Precision@k, AP/MAP, nDCG@k)"
      ]
    },
    {
      "cell_type": "code",
      "execution_count": 10,
      "id": "62c978b7",
      "metadata": {
        "id": "62c978b7"
      },
      "outputs": [],
      "source": [
        "def precision_at_k(retrieved: List[int], relevant: Set[int], k: int) -> float:\n",
        "    if k == 0: return 0.0\n",
        "    retrieved_k = retrieved[:k]\n",
        "    rel_count = sum(1 for doc in retrieved_k if doc in relevant)\n",
        "    return rel_count / k\n",
        "\n",
        "def average_precision(retrieved: List[int], relevant: Set[int]) -> float:\n",
        "    if not relevant:\n",
        "        return 0.0\n",
        "    score = 0.0\n",
        "    num_hits = 0.0\n",
        "    for i, doc in enumerate(retrieved, start=1):\n",
        "        if doc in relevant:\n",
        "            num_hits += 1.0\n",
        "            score += num_hits / i\n",
        "    return score / len(relevant)\n",
        "\n",
        "def dcg_at_k(retrieved: List[int], relevant: Set[int], k: int) -> float:\n",
        "    dcg = 0.0\n",
        "    for i, doc in enumerate(retrieved[:k], start=1):\n",
        "        rel = 1.0 if doc in relevant else 0.0\n",
        "        denom = math.log2(i+1)\n",
        "        dcg += (2**rel - 1) / denom\n",
        "    return dcg\n",
        "\n",
        "def idcg_at_k(relevant: Set[int], k: int) -> float:\n",
        "    ideal_rels = sorted([1]*min(len(relevant), k) + [0]*max(0, k - len(relevant)), reverse=True)\n",
        "    idcg = 0.0\n",
        "    for i, rel in enumerate(ideal_rels, start=1):\n",
        "        idcg += (2**rel - 1) / math.log2(i+1)\n",
        "    return idcg\n",
        "\n",
        "def ndcg_at_k(retrieved: List[int], relevant: Set[int], k: int) -> float:\n",
        "    idcg = idcg_at_k(relevant, k)\n",
        "    if idcg == 0.0:\n",
        "        return 0.0\n",
        "    dcg = dcg_at_k(retrieved, relevant, k)\n",
        "    return dcg / idcg"
      ]
    },
    {
      "cell_type": "markdown",
      "id": "f5081520",
      "metadata": {
        "id": "f5081520"
      },
      "source": [
        "## Evaluation runner and results table"
      ]
    },
    {
      "cell_type": "code",
      "execution_count": 11,
      "id": "a5f6355e",
      "metadata": {
        "colab": {
          "base_uri": "https://localhost:8080/"
        },
        "id": "a5f6355e",
        "outputId": "991cf92c-9e02-42f3-b40f-c3520e0e8dc0"
      },
      "outputs": [
        {
          "output_type": "stream",
          "name": "stdout",
          "text": [
            "TF-IDF overall: {'MAP': 0.95, 'nDCG@5': 0.9613147192765459, 'P@5': 0.24000000000000005}\n",
            "Whoosh BM25 overall: {'MAP': 0.4, 'nDCG@5': 0.4, 'P@5': 0.08}\n"
          ]
        }
      ],
      "source": [
        "def evaluate_rank_fn(rank_fn, queries, qrels, top_k=5):\n",
        "    rows = []\n",
        "    aps = []; ndcgs = []; pks = []\n",
        "    for qi, q in enumerate(queries):\n",
        "        ranked = rank_fn(q, top_k=top_k)\n",
        "        retrieved = [r[0] for r in ranked]\n",
        "        scores = [r[1] for r in ranked]\n",
        "        relevant = qrels.get(qi, set())\n",
        "        ap = average_precision(retrieved, relevant)\n",
        "        ndcg = ndcg_at_k(retrieved, relevant, top_k)\n",
        "        pk = precision_at_k(retrieved, relevant, top_k)\n",
        "        rows.append({'query_id': qi, 'query': q, 'retrieved': retrieved, 'scores': scores, 'relevant': sorted(list(relevant)), 'AP': ap, 'nDCG': ndcg, 'P@k': pk})\n",
        "        aps.append(ap); ndcgs.append(ndcg); pks.append(pk)\n",
        "    overall = {'MAP': float(np.mean(aps)), f'nDCG@{top_k}': float(np.mean(ndcgs)), f'P@{top_k}': float(np.mean(pks))}\n",
        "    return pd.DataFrame(rows), overall\n",
        "\n",
        "# Run evaluations\n",
        "tfidf_df, tfidf_overall = evaluate_rank_fn(rank_tfidf, SAMPLE_QUERIES, QRELS, top_k=TOP_K)\n",
        "whoosh_df, whoosh_overall = evaluate_rank_fn(rank_bm25_whoosh, SAMPLE_QUERIES, QRELS, top_k=TOP_K)\n",
        "\n",
        "print('TF-IDF overall:', tfidf_overall)\n",
        "print('Whoosh BM25 overall:', whoosh_overall)"
      ]
    },
    {
      "cell_type": "markdown",
      "id": "4932ab10",
      "metadata": {
        "id": "4932ab10"
      },
      "source": [
        "## Aggregate by query type and plots"
      ]
    },
    {
      "cell_type": "code",
      "execution_count": 15,
      "id": "9188a1db",
      "metadata": {
        "colab": {
          "base_uri": "https://localhost:8080/",
          "height": 942
        },
        "id": "9188a1db",
        "outputId": "23d6f87c-98df-4683-fa87-4b99b198583c"
      },
      "outputs": [
        {
          "output_type": "display_data",
          "data": {
            "text/plain": [
              "<Figure size 640x480 with 1 Axes>"
            ],
            "image/png": "[encoded data removed]"
          },
          "metadata": {}
        },
        {
          "output_type": "display_data",
          "data": {
            "text/plain": [
              "<Figure size 1000x500 with 1 Axes>"
            ],
            "image/png": "[encoded data removed]"
          },
          "metadata": {}
        }
      ],
      "source": [
        "def aggregate_by_type(metrics_df, terminological_queries):\n",
        "    term = metrics_df.iloc[:len(TERMINOLOGICAL_QUERIES)]\n",
        "    conc = metrics_df.iloc[len(TERMINOLOGICAL_QUERIES):]\n",
        "    term_vals = {'MAP': float(term['AP'].mean()), f'nDCG@{TOP_K}': float(term['nDCG'].mean()), f'P@{TOP_K}': float(term['P@k'].mean())}\n",
        "    conc_vals = {'MAP': float(conc['AP'].mean()), f'nDCG@{TOP_K}': float(conc['nDCG'].mean()), f'P@{TOP_K}': float(conc['P@k'].mean())}\n",
        "    return term_vals, conc_vals\n",
        "\n",
        "tfidf_term, tfidf_conc = aggregate_by_type(tfidf_df, SAMPLE_QUERIES)\n",
        "whoosh_term, whoosh_conc = aggregate_by_type(whoosh_df, SAMPLE_QUERIES)\n",
        "\n",
        "# Plot overall comparison\n",
        "metrics_names = ['MAP', f'nDCG@{TOP_K}', f'P@{TOP_K}']\n",
        "tfidf_vals = [tfidf_overall['MAP'], tfidf_overall[f'nDCG@{TOP_K}'], tfidf_overall[f'P@{TOP_K}']]\n",
        "whoosh_vals = [whoosh_overall['MAP'], whoosh_overall[f'nDCG@{TOP_K}'], whoosh_overall[f'P@{TOP_K}']]\n",
        "\n",
        "x = np.arange(len(metrics_names)); width = 0.35\n",
        "fig, ax = plt.subplots()\n",
        "ax.bar(x - width/2, tfidf_vals, width)\n",
        "ax.bar(x + width/2, whoosh_vals, width)\n",
        "ax.set_xticks(x); ax.set_xticklabels(metrics_names)\n",
        "ax.set_ylabel('Score'); ax.set_title('Overall metrics: TF-IDF vs Whoosh BM25')\n",
        "ax.legend(['TF-IDF','Whoosh BM25'])\n",
        "plt.show()\n",
        "\n",
        "# Plot by query type\n",
        "labels = metrics_names\n",
        "term_vals_tf = [tfidf_term['MAP'], tfidf_term[f'nDCG@{TOP_K}'], tfidf_term[f'P@{TOP_K}']]\n",
        "conc_vals_tf = [tfidf_conc['MAP'], tfidf_conc[f'nDCG@{TOP_K}'], tfidf_conc[f'P@{TOP_K}']]\n",
        "term_vals_who = [whoosh_term['MAP'], whoosh_term[f'nDCG@{TOP_K}'], whoosh_term[f'P@{TOP_K}']]\n",
        "conc_vals_who = [whoosh_conc['MAP'], whoosh_conc[f'nDCG@{TOP_K}'], whoosh_conc[f'P@{TOP_K}']]\n",
        "x = np.arange(len(labels)); width = 0.18\n",
        "fig, ax = plt.subplots(figsize=(10,5))\n",
        "ax.bar(x - 1.5*width, term_vals_tf, width)\n",
        "ax.bar(x - 0.5*width, conc_vals_tf, width)\n",
        "ax.bar(x + 0.5*width, term_vals_who, width)\n",
        "ax.bar(x + 1.5*width, conc_vals_who, width)\n",
        "ax.set_xticks(x); ax.set_xticklabels(labels)\n",
        "ax.set_ylabel('Score'); ax.set_title('Metrics by Query Type and Model')\n",
        "ax.legend(['TF-IDF Term','TF-IDF Conc','Whoosh Term','Whoosh Conc'])\n",
        "plt.tight_layout(); plt.show()"
      ]
    }
  ],
  "metadata": {
    "colab": {
      "provenance": []
    },
    "language_info": {
      "name": "python"
    },
    "kernelspec": {
      "name": "python3",
      "display_name": "Python 3"
    }
  },
  "nbformat": 4,
  "nbformat_minor": 5
}