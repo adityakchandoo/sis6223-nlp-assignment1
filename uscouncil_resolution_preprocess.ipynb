{
  "nbformat": 4,
  "nbformat_minor": 0,
  "metadata": {
    "colab": {
      "provenance": []
    },
    "kernelspec": {
      "name": "python3",
      "display_name": "Python 3"
    },
    "language_info": {
      "name": "python"
    }
  },
  "cells": [
    {
      "cell_type": "code",
      "source": [
        "!pip -q install nltk rank_bm25"
      ],
      "metadata": {
        "id": "lsSQIZqHg_Oz"
      },
      "execution_count": 1,
      "outputs": []
    },
    {
      "cell_type": "code",
      "source": [
        "import os, re, glob, json, nltk, random\n",
        "import numpy as np\n",
        "from nltk import sent_tokenize, word_tokenize\n",
        "from nltk.corpus import stopwords\n",
        "from nltk.stem import WordNetLemmatizer\n",
        "from rank_bm25 import BM25Okapi\n",
        "\n",
        "nltk.download('punkt', quiet=True)\n",
        "nltk.download('punkt_tab', quiet=True)\n",
        "nltk.download('stopwords', quiet=True)\n",
        "nltk.download('wordnet', quiet=True)\n",
        "nltk.download('omw-1.4', quiet=True)"
      ],
      "metadata": {
        "colab": {
          "base_uri": "https://localhost:8080/"
        },
        "id": "2_T_TMAggqHz",
        "outputId": "1341563c-6575-46be-9669-869d8bb4a95f"
      },
      "execution_count": 2,
      "outputs": [
        {
          "output_type": "execute_result",
          "data": {
            "text/plain": [
              "True"
            ]
          },
          "metadata": {},
          "execution_count": 2
        }
      ]
    },
    {
      "cell_type": "code",
      "source": [
        "!rm -rf dataset"
      ],
      "metadata": {
        "id": "cNy-FMz0Ujo5"
      },
      "execution_count": 3,
      "outputs": []
    },
    {
      "cell_type": "code",
      "execution_count": 4,
      "metadata": {
        "id": "YaOhlNWRe-nU"
      },
      "outputs": [],
      "source": [
        "!wget -q -O CR.zip https://zenodo.org/records/11212056/files/CR-UNSC_2024-05-19_EN_TXT_BEST.zip?download=1\n",
        "!unzip -q CR.zip -d dataset/ && rm CR.zip\n",
        "TXT_FILES = glob.glob(\"dataset/*.txt\")"
      ]
    },
    {
      "cell_type": "code",
      "source": [
        "STOP = set(stopwords.words(\"english\")) - {\"not\", \"shall\", \"no\", \"without\"}\n",
        "LEMMA = WordNetLemmatizer()"
      ],
      "metadata": {
        "id": "l79bIvxHiFN9"
      },
      "execution_count": 5,
      "outputs": []
    },
    {
      "cell_type": "code",
      "source": [
        "def remove_uscouncil_templates(text: str) -> str:\n",
        "    # General  DD MMM YYYY\n",
        "    text = re.sub(r\"S/RES/\\d+.*?Distr\\.: General.*?\\n\", \"\", text, flags=re.S | re.I)\n",
        "    # page footers\n",
        "    text = re.sub(r\"Page \\d+ of \\d+.*?\\n\", \"\", text, flags=re.I)\n",
        "    # copyright line\n",
        "    text = re.sub(r\"©.*?20\\d{2}.*?\\n\", \"\", text, flags=re.I)\n",
        "    return text\n",
        "\n",
        "\n",
        "def preprocess(text: str) -> list[str]:\n",
        "    \"\"\"split → tokenise → clean → lemmatise.\"\"\"\n",
        "    text = remove_uscouncil_templates(text)\n",
        "    sents = sent_tokenize(text)\n",
        "    tokens = []\n",
        "    for sent in sents:\n",
        "        sent = re.sub(r\"\\s+\", \" \", sent.strip().lower())\n",
        "        toks = word_tokenize(sent)\n",
        "        toks = [LEMMA.lemmatize(t) for t in toks\n",
        "                if t.isalpha() and t not in STOP]\n",
        "        tokens.extend(toks)\n",
        "    return tokens"
      ],
      "metadata": {
        "id": "sO9frimRFTr5"
      },
      "execution_count": 6,
      "outputs": []
    },
    {
      "cell_type": "code",
      "source": [
        "processed_docs, doc_ids = [], []\n",
        "for fp in TXT_FILES:\n",
        "    with open(fp, encoding=\"utf-8\") as f:\n",
        "        processed_docs.append(preprocess(f.read()))\n",
        "    doc_ids.append(os.path.basename(fp))\n",
        "\n",
        "bm25 = BM25Okapi(processed_docs)\n",
        "print(\"🔍 BM25 index built\")"
      ],
      "metadata": {
        "colab": {
          "base_uri": "https://localhost:8080/"
        },
        "id": "-gTDZ2KpFkOK",
        "outputId": "08c386c2-1407-4f40-d3a1-6fc21f0bb5e2"
      },
      "execution_count": 7,
      "outputs": [
        {
          "output_type": "stream",
          "name": "stdout",
          "text": [
            "🔍 BM25 index built\n"
          ]
        }
      ]
    },
    {
      "cell_type": "code",
      "source": [
        "QUERIES = [\"peacekeeping force\", \"sanctions against iran\", \"ceasefire agreement\"]\n",
        "\n",
        "def search(query: str, k: int = 3):\n",
        "    qtok = preprocess(query)\n",
        "    scores = bm25.get_scores(qtok)\n",
        "    top = sorted(enumerate(scores), key=lambda x: x[1], reverse=True)[:k]\n",
        "    return [(doc_ids[i], s) for i, s in top]\n",
        "\n",
        "print(\"\\n\" + \"=\"*60)\n",
        "for q in QUERIES:\n",
        "    print(f\"\\nQuery: {q!r}\")\n",
        "    for rank, (did, sc) in enumerate(search(q), 1):\n",
        "        print(f\"{rank}. {did}  (score {sc:.4f})\")\n",
        "print(\"=\"*60)"
      ],
      "metadata": {
        "colab": {
          "base_uri": "https://localhost:8080/"
        },
        "id": "zFbvKa7ISAL6",
        "outputId": "ed49970c-e293-4d7c-b632-9158abb07a96"
      },
      "execution_count": 8,
      "outputs": [
        {
          "output_type": "stream",
          "name": "stdout",
          "text": [
            "\n",
            "============================================================\n",
            "\n",
            "Query: 'peacekeeping force'\n",
            "1. S_RES_1327_2000_EN.txt  (score 6.6788)\n",
            "2. S_RES_1311_2000_EN.txt  (score 6.6335)\n",
            "3. S_RES_1096_1997_EN.txt  (score 6.6281)\n",
            "\n",
            "Query: 'sanctions against iran'\n",
            "1. S_RES_2231_2015_EN.txt  (score 13.0989)\n",
            "2. S_RES_1929_2010_EN.txt  (score 11.1211)\n",
            "3. S_RES_1803_2008_EN.txt  (score 11.0169)\n",
            "\n",
            "Query: 'ceasefire agreement'\n",
            "1. S_RES_2694_2023_EN.txt  (score 5.2597)\n",
            "2. S_RES_1279_1999_EN.txt  (score 5.1727)\n",
            "3. S_RES_1291_2000_EN.txt  (score 5.1510)\n",
            "============================================================\n"
          ]
        }
      ]
    },
    {
      "cell_type": "code",
      "source": [
        "def compare(idx: int):\n",
        "    fp = TXT_FILES[idx]\n",
        "    with open(fp, encoding=\"utf-8\") as f:\n",
        "        raw_text = f.read()\n",
        "\n",
        "    clean = remove_uscouncil_templates(raw_text)\n",
        "    clean = re.sub(r\"\\s+\", \" \", clean.strip())\n",
        "\n",
        "    # lematised version\n",
        "    lemmas = preprocess(raw_text)\n",
        "\n",
        "    print(f\"name: {os.path.basename(fp)}\")\n",
        "    print(clean)\n",
        "    print(\"—\" * 80)\n",
        "    print(\" \".join(lemmas))\n",
        "\n",
        "compare(0)"
      ],
      "metadata": {
        "colab": {
          "base_uri": "https://localhost:8080/"
        },
        "id": "bP47YE2VY60z",
        "outputId": "a23d45fd-1217-460b-96e2-361226acd184"
      },
      "execution_count": 15,
      "outputs": [
        {
          "output_type": "stream",
          "name": "stdout",
          "text": [
            "name: S_RES_1441_2002_EN.txt\n",
            "United Nations 8 November 2002 Resolution 1441 (2002) Adopted by the Security Council at its 4644th meeting, on 8 November 2002 The Security Council, Recalling all its previous relevant resolutions, in particular its resolutions 661 (1990) of 6 August 1990, 678 (1990) of 29 November 1990, 686 (1991) of 2 March 1991, 687 (1991) of 3 April 1991, 688 (1991) of 5 April 1991, 707 (1991) of 15 August 1991, 715 (1991) of 11 October 1991, 986 (1995) of 14 April 1995, and 1284 (1999) of 17 December 1999, and all the relevant statements of its President, Recalling also its resolution 1382 (2001) of 29 November 2001 and its intention to implement it fully, Recognizing the threat Iraq’s non-compliance with Council resolutions and proliferation of weapons of mass destruction and long-range missiles poses to international peace and security, Recalling that its resolution 678 (1990) authorized Member States to use all necessary means to uphold and implement its resolution 660 (1990) of 2 August 1990 and all relevant resolutions subsequent to resolution 660 (1990) and to restore international peace and security in the area, Further recalling that its resolution 687 (1991) imposed obligations on Iraq as a necessary step for achievement of its stated objective of restoring international peace and security in the area, Deploring the fact that Iraq has not provided an accurate, full, final, and complete disclosure, as required by resolution 687 (1991), of all aspects of its programmes to develop weapons of mass destruction and ballistic missiles with a range greater than one hundred and fifty kilometres, and of all holdings of such weapons, their components and production facilities and locations, as well as all other nuclear programmes, including any which it claims are for purposes not related to nuclear-weapons-usable material, Deploring further that Iraq repeatedly obstructed immediate, unconditional, and unrestricted access to sites designated by the United Nations Special Commission (UNSCOM) and the International Atomic Energy Agency (IAEA), failed to cooperate fully and unconditionally with UNSCOM and IAEA weapons 02-68226 (E) *0268226* S/RES/1441 (2002) inspectors, as required by resolution 687 (1991), and ultimately ceased all cooperation with UNSCOM and the IAEA in 1998, Deploring the absence, since December 1998, in Iraq of international monitoring, inspection, and verification, as required by relevant resolutions, of weapons of mass destruction and ballistic missiles, in spite of the Council’s repeated demands that Iraq provide immediate, unconditional, and unrestricted access to the United Nations Monitoring, Verification and Inspection Commission (UNMOVIC), established in resolution 1284 (1999) as the successor organization to UNSCOM, and the IAEA, and regretting the consequent prolonging of the crisis in the region and the suffering of the Iraqi people, Deploring also that the Government of Iraq has failed to comply with its commitments pursuant to resolution 687 (1991) with regard to terrorism, pursuant to resolution 688 (1991) to end repression of its civilian population and to provide access by international humanitarian organizations to all those in need of assistance in Iraq, and pursuant to resolutions 686 (1991), 687 (1991), and 1284 (1999) to return or cooperate in accounting for Kuwaiti and third country nationals wrongfully detained by Iraq, or to return Kuwaiti property wrongfully seized by Iraq, Recalling that in its resolution 687 (1991) the Council declared that a ceasefire would be based on acceptance by Iraq of the provisions of that resolution, including the obligations on Iraq contained therein, Determined to ensure full and immediate compliance by Iraq without conditions or restrictions with its obligations under resolution 687 (1991) and other relevant resolutions and recalling that the resolutions of the Council constitute the governing standard of Iraqi compliance, Recalling that the effective operation of UNMOVIC, as the successor organization to the Special Commission, and the IAEA is essential for the implementation of resolution 687 (1991) and other relevant resolutions, Noting that the letter dated 16 September 2002 from the Minister for Foreign Affairs of Iraq addressed to the Secretary-General is a necessary first step toward rectifying Iraq’s continued failure to comply with relevant Council resolutions, Noting further the letter dated 8 October 2002 from the Executive Chairman of UNMOVIC and the Director-General of the IAEA to General Al-Saadi of the Government of Iraq laying out the practical arrangements, as a follow-up to their meeting in Vienna, that are prerequisites for the resumption of inspections in Iraq by UNMOVIC and the IAEA, and expressing the gravest concern at the continued failure by the Government of Iraq to provide confirmation of the arrangements as laid out in that letter, Reaffirming the commitment of all Member States to the sovereignty and territorial integrity of Iraq, Kuwait, and the neighbouring States, Commending the Secretary-General and members of the League of Arab States and its Secretary-General for their efforts in this regard, Determined to secure full compliance with its decisions, Acting under Chapter VII of the Charter of the United Nations, 2 S/RES/1441 (2002) 1. Decides that Iraq has been and remains in material breach of its obligations under relevant resolutions, including resolution 687 (1991), in particular through Iraq’s failure to cooperate with United Nations inspectors and the IAEA, and to complete the actions required under paragraphs 8 to 13 of resolution 687 (1991); 2. Decides, while acknowledging paragraph 1 above, to afford Iraq, by this resolution, a final opportunity to comply with its disarmament obligations under relevant resolutions of the Council; and accordingly decides to set up an enhanced inspection regime with the aim of bringing to full and verified completion the disarmament process established by resolution 687 (1991) and subsequent resolutions of the Council; 3. Decides that, in order to begin to comply with its disarmament obligations, in addition to submitting the required biannual declarations, the Government of Iraq shall provide to UNMOVIC, the IAEA, and the Council, not later than 30 days from the date of this resolution, a currently accurate, full, and complete declaration of all aspects of its programmes to develop chemical, biological, and nuclear weapons, ballistic missiles, and other delivery systems such as unmanned aerial vehicles and dispersal systems designed for use on aircraft, including any holdings and precise locations of such weapons, components, subcomponents, stocks of agents, and related material and equipment, the locations and work of its research, development and production facilities, as well as all other chemical, biological, and nuclear programmes, including any which it claims are for purposes not related to weapon production or material; 4. Decides that false statements or omissions in the declarations submitted by Iraq pursuant to this resolution and failure by Iraq at any time to comply with, and cooperate fully in the implementation of, this resolution shall constitute a further material breach of Iraq’s obligations and will be reported to the Council for assessment in accordance with paragraphs 11 and 12 below; 5. Decides that Iraq shall provide UNMOVIC and the IAEA immediate, unimpeded, unconditional, and unrestricted access to any and all, including underground, areas, facilities, buildings, equipment, records, and means of transport which they wish to inspect, as well as immediate, unimpeded, unrestricted, and private access to all officials and other persons whom UNMOVIC or the IAEA wish to interview in the mode or location of UNMOVIC’s or the IAEA’s choice pursuant to any aspect of their mandates; further decides that UNMOVIC and the IAEA may at their discretion conduct interviews inside or outside of Iraq, may facilitate the travel of those interviewed and family members outside of Iraq, and that, at the sole discretion of UNMOVIC and the IAEA, such interviews may occur without the presence of observers from the Iraqi Government; and instructs UNMOVIC and requests the IAEA to resume inspections no later than 45 days following adoption of this resolution and to update the Council 60 days thereafter; 6. Endorses the 8 October 2002 letter from the Executive Chairman of UNMOVIC and the Director-General of the IAEA to General Al-Saadi of the Government of Iraq, which is annexed hereto, and decides that the contents of the letter shall be binding upon Iraq; 7. Decides further that, in view of the prolonged interruption by Iraq of the presence of UNMOVIC and the IAEA and in order for them to accomplish the tasks 3 S/RES/1441 (2002) set forth in this resolution and all previous relevant resolutions and notwithstanding prior understandings, the Council hereby establishes the following revised or additional authorities, which shall be binding upon Iraq, to facilitate their work in Iraq: – UNMOVIC and the IAEA shall determine the composition of their inspection teams and ensure that these teams are composed of the most qualified and experienced experts available; – All UNMOVIC and IAEA personnel shall enjoy the privileges and immunities, corresponding to those of experts on mission, provided in the Convention on Privileges and Immunities of the United Nations and the Agreement on the Privileges and Immunities of the IAEA; – UNMOVIC and the IAEA shall have unrestricted rights of entry into and out of Iraq, the right to free, unrestricted, and immediate movement to and from inspection sites, and the right to inspect any sites and buildings, including immediate, unimpeded, unconditional, and unrestricted access to Presidential Sites equal to that at other sites, notwithstanding the provisions of resolution 1154 (1998) of 2 March 1998; – UNMOVIC and the IAEA shall have the right to be provided by Iraq the names of all personnel currently and formerly associated with Iraq’s chemical, biological, nuclear, and ballistic missile programmes and the associated research, development, and production facilities; – Security of UNMOVIC and IAEA facilities shall be ensured by sufficient United Nations security guards; – UNMOVIC and the IAEA shall have the right to declare, for the purposes of freezing a site to be inspected, exclusion zones, including surrounding areas and transit corridors, in which Iraq will suspend ground and aerial movement so that nothing is changed in or taken out of a site being inspected; – UNMOVIC and the IAEA shall have the free and unrestricted use and landing of fixed- and rotary-winged aircraft, including manned and unmanned reconnaissance vehicles; – UNMOVIC and the IAEA shall have the right at their sole discretion verifiably to remove, destroy, or render harmless all prohibited weapons, subsystems, components, records, materials, and other related items, and the right to impound or close any facilities or equipment for the production thereof; and – UNMOVIC and the IAEA shall have the right to free import and use of equipment or materials for inspections and to seize and export any equipment, materials, or documents taken during inspections, without search of UNMOVIC or IAEA personnel or official or personal baggage; 8. Decides further that Iraq shall not take or threaten hostile acts directed against any representative or personnel of the United Nations or the IAEA or of any Member State taking action to uphold any Council resolution; 9. Requests the Secretary-General immediately to notify Iraq of this resolution, which is binding on Iraq; demands that Iraq confirm within seven days of that notification its intention to comply fully with this resolution; and demands 4 S/RES/1441 (2002) further that Iraq cooperate immediately, unconditionally, and actively with UNMOVIC and the IAEA; 10. Requests all Member States to give full support to UNMOVIC and the IAEA in the discharge of their mandates, including by providing any information related to prohibited programmes or other aspects of their mandates, including on Iraqi attempts since 1998 to acquire prohibited items, and by recommending sites to be inspected, persons to be interviewed, conditions of such interviews, and data to be collected, the results of which shall be reported to the Council by UNMOVIC and the IAEA; 11. Directs the Executive Chairman of UNMOVIC and the Director-General of the IAEA to report immediately to the Council any interference by Iraq with inspection activities, as well as any failure by Iraq to comply with its disarmament obligations, including its obligations regarding inspections under this resolution; 12. Decides to convene immediately upon receipt of a report in accordance with paragraphs 4 or 11 above, in order to consider the situation and the need for full compliance with all of the relevant Council resolutions in order to secure international peace and security; 13. Recalls, in that context, that the Council has repeatedly warned Iraq that it will face serious consequences as a result of its continued violations of its obligations; 14. Decides to remain seized of the matter. 5 S/RES/1441 (2002) Annex Text of Blix/El-Baradei letter United Nations Monitoring, Verification International Atomic Energy Agency and Inspection Commission The Executive Chairman The Director General 8 October 2002 Dear General Al-Saadi, During our recent meeting in Vienna, we discussed practical arrangements that are prerequisites for the resumption of inspections in Iraq by UNMOVIC and the IAEA. As you recall, at the end of our meeting in Vienna we agreed on a statement which listed some of the principal results achieved, particularly Iraq’s acceptance of all the rights of inspection provided for in all of the relevant Security Council resolutions. This acceptance was stated to be without any conditions attached. During our 3 October 2002 briefing to the Security Council, members of the Council suggested that we prepare a written document on all of the conclusions we reached in Vienna. This letter lists those conclusions and seeks your confirmation thereof. We shall report accordingly to the Security Council. In the statement at the end of the meeting, it was clarified that UNMOVIC and the IAEA will be granted immediate, unconditional and unrestricted access to sites, including what was termed “sensitive sites” in the past. As we noted, however, eight presidential sites have been the subject of special procedures under a Memorandum of Understanding of 1998. Should these sites be subject, as all other sites, to immediate, unconditional and unrestricted access, UNMOVIC and the IAEA would conduct inspections there with the same professionalism. H.E. General Amir H. Al-Saadi Advisor Presidential Office Baghdad Iraq 6 S/RES/1441 (2002) We confirm our understanding that UNMOVIC and the IAEA have the right to determine the number of inspectors required for access to any particular site. This determination will be made on the basis of the size and complexity of the site being inspected. We also confirm that Iraq will be informed of the designation of additional sites, i.e. sites not declared by Iraq or previously inspected by either UNSCOM or the IAEA, through a Notification of Inspection (NIS) provided upon arrival of the inspectors at such sites. Iraq will ensure that no proscribed material, equipment, records or other relevant items will be destroyed except in the presence of UNMOVIC and/or IAEA inspectors, as appropriate, and at their request. UNMOVIC and the IAEA may conduct interviews with any person in Iraq whom they believe may have information relevant to their mandate. Iraq will facilitate such interviews. It is for UNMOVIC and the IAEA to choose the mode and location for interviews. The National Monitoring Directorate (NMD) will, as in the past, serve as the Iraqi counterpart for the inspectors. The Baghdad Ongoing Monitoring and Verification Centre (BOMVIC) will be maintained on the same premises and under the same conditions as was the former Baghdad Monitoring and Verification Centre. The NMD will make available services as before, cost free, for the refurbishment of the premises. The NMD will provide free of cost: (a) escorts to facilitate access to sites to be inspected and communication with personnel to be interviewed; (b) a hotline for BOMVIC which will be staffed by an English speaking person on a 24 hour a day/seven days a week basis; (c) support in terms of personnel and ground transportation within the country, as requested; and (d) assistance in the movement of materials and equipment at inspectors’ request (construction, excavation equipment, etc.). NMD will also ensure that escorts are available in the event of inspections outside normal working hours, including at night and on holidays. Regional UNMOVIC/IAEA offices may be established, for example, in Basra and Mosul, for the use of their inspectors. For this purpose, Iraq will provide, without cost, adequate office buildings, staff accommodation, and appropriate escort personnel. UNMOVIC and the IAEA may use any type of voice or data transmission, including satellite and/or inland networks, with or without encryption capability. UNMOVIC and the IAEA may also install equipment in the field with the capability for transmission of data directly to the BOMVIC, New York and Vienna (e.g. sensors, surveillance cameras). This will be facilitated by Iraq and there will be no interference by Iraq with UNMOVIC or IAEA communications. Iraq will provide, without cost, physical protection of all surveillance equipment, and construct antennae for remote transmission of data, at the request of UNMOVIC and the IAEA. Upon request by UNMOVIC through the NMD, Iraq will allocate frequencies for communications equipment. Iraq will provide security for all UNMOVIC and IAEA personnel. Secure and suitable accommodations will be designated at normal rates by Iraq for these personnel. For their part, UNMOVIC and the IAEA will require that their staff not stay at any accommodation other than those identified in consultation with Iraq. On the use of fixed-wing aircraft for transport of personnel and equipment and for inspection purposes, it was clarified that aircraft used by UNMOVIC and IAEA staff arriving in Baghdad may land at Saddam International Airport. The points of departure of incoming aircraft will be decided by UNMOVIC. The Rasheed airbase will continue to be used for UNMOVIC and IAEA helicopter operations. UNMOVIC and Iraq will establish air liaison offices at the airbase. At both Saddam International Airport and Rasheed airbase, Iraq will provide the necessary support premises and facilities. Aircraft fuel will be provided by Iraq, as before, free of charge. 7 S/RES/1441 (2002) On the wider issue of air operations in Iraq, both fixed-wing and rotary, Iraq will guarantee the safety of air operations in its air space outside the no-fly zones. With regard to air operations in the no-fly zones, Iraq will take all steps within its control to ensure the safety of such operations. Helicopter flights may be used, as needed, during inspections and for technical activities, such as gamma detection, without limitation in all parts of Iraq and without any area excluded. Helicopters may also be used for medical evacuation. On the question of aerial imagery, UNMOVIC may wish to resume the use of U-2 or Mirage overflights. The relevant practical arrangements would be similar to those implemented in the past. As before, visas for all arriving staff will be issued at the point of entry on the basis of the UN Laissez-Passer or UN Certificate; no other entry or exit formalities will be required. The aircraft passenger manifest will be provided one hour in advance of the arrival of the aircraft in Baghdad. There will be no searching of UNMOVIC or IAEA personnel or of official or personal baggage. UNMOVIC and the IAEA will ensure that their personnel respect the laws of Iraq restricting the export of certain items, for example, those related to Iraq’s national cultural heritage. UNMOVIC and the IAEA may bring into, and remove from, Iraq all of the items and materials they require, including satellite phones and other equipment. With respect to samples, UNMOVIC and IAEA will, where feasible, split samples so that Iraq may receive a portion while another portion is kept for reference purposes. Where appropriate, the organizations will send the samples to more than one laboratory for analysis. We would appreciate your confirmation of the above as a correct reflection of our talks in Vienna. Naturally, we may need other practical arrangements when proceeding with inspections. We would expect in such matters, as with the above, Iraq’s co-operation in all respect. Yours sincerely, (Signed) (Signed) Hans Blix Mohamed ElBaradei Executive Chairman Director General United Nations Monitoring, International Atomic Energy Agency Verification and Inspection Commission 8\n",
            "————————————————————————————————————————————————————————————————————————————————\n",
            "united nation november resolution adopted security council meeting november security council recalling previous relevant resolution particular resolution august november march april april august october april december relevant statement president recalling also resolution november intention implement fully recognizing threat iraq council resolution proliferation weapon mass destruction missile pose international peace security recalling resolution authorized member state use necessary mean uphold implement resolution august relevant resolution subsequent resolution restore international peace security area recalling resolution imposed obligation iraq necessary step achievement stated objective restoring international peace security area deploring fact iraq not provided accurate full final complete disclosure required resolution aspect programme develop weapon mass destruction ballistic missile range greater one hundred fifty kilometre holding weapon component production facility location well nuclear programme including claim purpose not related material deploring iraq repeatedly obstructed immediate unconditional unrestricted access site designated united nation special commission unscom international atomic energy agency iaea failed cooperate fully unconditionally unscom iaea weapon e inspector required resolution ultimately ceased cooperation unscom iaea deploring absence since december iraq international monitoring inspection verification required relevant resolution weapon mass destruction ballistic missile spite council repeated demand iraq provide immediate unconditional unrestricted access united nation monitoring verification inspection commission unmovic established resolution successor organization unscom iaea regretting consequent prolonging crisis region suffering iraqi people deploring also government iraq failed comply commitment pursuant resolution regard terrorism pursuant resolution end repression civilian population provide access international humanitarian organization need assistance iraq pursuant resolution return cooperate accounting kuwaiti third country national wrongfully detained iraq return kuwaiti property wrongfully seized iraq recalling resolution council declared ceasefire would based acceptance iraq provision resolution including obligation iraq contained therein determined ensure full immediate compliance iraq without condition restriction obligation resolution relevant resolution recalling resolution council constitute governing standard iraqi compliance recalling effective operation unmovic successor organization special commission iaea essential implementation resolution relevant resolution noting letter dated september minister foreign affair iraq addressed necessary first step toward rectifying iraq continued failure comply relevant council resolution noting letter dated october executive chairman unmovic iaea general government iraq laying practical arrangement meeting vienna prerequisite resumption inspection iraq unmovic iaea expressing gravest concern continued failure government iraq provide confirmation arrangement laid letter reaffirming commitment member state sovereignty territorial integrity iraq kuwait neighbouring state commending member league arab state effort regard determined secure full compliance decision acting chapter vii charter united nation decides iraq remains material breach obligation relevant resolution including resolution particular iraq failure cooperate united nation inspector iaea complete action required paragraph resolution decides acknowledging paragraph afford iraq resolution final opportunity comply disarmament obligation relevant resolution council accordingly decides set enhanced inspection regime aim bringing full verified completion disarmament process established resolution subsequent resolution council decides order begin comply disarmament obligation addition submitting required biannual declaration government iraq shall provide unmovic iaea council not later day date resolution currently accurate full complete declaration aspect programme develop chemical biological nuclear weapon ballistic missile delivery system unmanned aerial vehicle dispersal system designed use aircraft including holding precise location weapon component subcomponents stock agent related material equipment location work research development production facility well chemical biological nuclear programme including claim purpose not related weapon production material decides false statement omission declaration submitted iraq pursuant resolution failure iraq time comply cooperate fully implementation resolution shall constitute material breach iraq obligation reported council assessment accordance paragraph decides iraq shall provide unmovic iaea immediate unimpeded unconditional unrestricted access including underground area facility building equipment record mean transport wish inspect well immediate unimpeded unrestricted private access official person unmovic iaea wish interview mode location unmovic iaea choice pursuant aspect mandate decides unmovic iaea may discretion conduct interview inside outside iraq may facilitate travel interviewed family member outside iraq sole discretion unmovic iaea interview may occur without presence observer iraqi government instructs unmovic request iaea resume inspection no later day following adoption resolution update council day thereafter endorses october letter executive chairman unmovic iaea general government iraq annexed hereto decides content letter shall binding upon iraq decides view prolonged interruption iraq presence unmovic iaea order accomplish task set forth resolution previous relevant resolution notwithstanding prior understanding council hereby establishes following revised additional authority shall binding upon iraq facilitate work iraq unmovic iaea shall determine composition inspection team ensure team composed qualified experienced expert available unmovic iaea personnel shall enjoy privilege immunity corresponding expert mission provided convention privilege immunity united nation agreement privilege immunity iaea unmovic iaea shall unrestricted right entry iraq right free unrestricted immediate movement inspection site right inspect site building including immediate unimpeded unconditional unrestricted access presidential site equal site notwithstanding provision resolution march unmovic iaea shall right provided iraq name personnel currently formerly associated iraq chemical biological nuclear ballistic missile programme associated research development production facility security unmovic iaea facility shall ensured sufficient united nation security guard unmovic iaea shall right declare purpose freezing site inspected exclusion zone including surrounding area transit corridor iraq suspend ground aerial movement nothing changed taken site inspected unmovic iaea shall free unrestricted use landing aircraft including manned unmanned reconnaissance vehicle unmovic iaea shall right sole discretion verifiably remove destroy render harmless prohibited weapon subsystem component record material related item right impound close facility equipment production thereof unmovic iaea shall right free import use equipment material inspection seize export equipment material document taken inspection without search unmovic iaea personnel official personal baggage decides iraq shall not take threaten hostile act directed representative personnel united nation iaea member state taking action uphold council resolution request immediately notify iraq resolution binding iraq demand iraq confirm within seven day notification intention comply fully resolution demand iraq cooperate immediately unconditionally actively unmovic iaea request member state give full support unmovic iaea discharge mandate including providing information related prohibited programme aspect mandate including iraqi attempt since acquire prohibited item recommending site inspected person interviewed condition interview data collected result shall reported council unmovic iaea directs executive chairman unmovic iaea report immediately council interference iraq inspection activity well failure iraq comply disarmament obligation including obligation regarding inspection resolution decides convene immediately upon receipt report accordance paragraph order consider situation need full compliance relevant council resolution order secure international peace security recall context council repeatedly warned iraq face serious consequence result continued violation obligation decides remain seized matter annex text letter united nation monitoring verification international atomic energy agency inspection commission executive chairman director general october dear general recent meeting vienna discussed practical arrangement prerequisite resumption inspection iraq unmovic iaea recall end meeting vienna agreed statement listed principal result achieved particularly iraq acceptance right inspection provided relevant security council resolution acceptance stated without condition attached october briefing security council member council suggested prepare written document conclusion reached vienna letter list conclusion seek confirmation thereof shall report accordingly security council statement end meeting clarified unmovic iaea granted immediate unconditional unrestricted access site including termed sensitive site past noted however eight presidential site subject special procedure memorandum understanding site subject site immediate unconditional unrestricted access unmovic iaea would conduct inspection professionalism general amir advisor presidential office baghdad iraq confirm understanding unmovic iaea right determine number inspector required access particular site determination made basis size complexity site inspected also confirm iraq informed designation additional site site not declared iraq previously inspected either unscom iaea notification inspection ni provided upon arrival inspector site iraq ensure no proscribed material equipment record relevant item destroyed except presence unmovic iaea inspector appropriate request unmovic iaea may conduct interview person iraq believe may information relevant mandate iraq facilitate interview unmovic iaea choose mode location interview national monitoring directorate nmd past serve iraqi counterpart inspector baghdad ongoing monitoring verification centre bomvic maintained premise condition former baghdad monitoring verification centre nmd make available service cost free refurbishment premise nmd provide free cost escort facilitate access site inspected communication personnel interviewed b hotline bomvic staffed english speaking person hour day week basis c support term personnel ground transportation within country requested assistance movement material equipment inspector request construction excavation equipment etc nmd also ensure escort available event inspection outside normal working hour including night holiday regional office may established example basra mosul use inspector purpose iraq provide without cost adequate office building staff accommodation appropriate escort personnel unmovic iaea may use type voice data transmission including satellite inland network without encryption capability unmovic iaea may also install equipment field capability transmission data directly bomvic new york vienna sensor surveillance camera facilitated iraq no interference iraq unmovic iaea communication iraq provide without cost physical protection surveillance equipment construct antenna remote transmission data request unmovic iaea upon request unmovic nmd iraq allocate frequency communication equipment iraq provide security unmovic iaea personnel secure suitable accommodation designated normal rate iraq personnel part unmovic iaea require staff not stay accommodation identified consultation iraq use aircraft transport personnel equipment inspection purpose clarified aircraft used unmovic iaea staff arriving baghdad may land saddam international airport point departure incoming aircraft decided unmovic rasheed airbase continue used unmovic iaea helicopter operation unmovic iraq establish air liaison office airbase saddam international airport rasheed airbase iraq provide necessary support premise facility aircraft fuel provided iraq free charge wider issue air operation iraq rotary iraq guarantee safety air operation air space outside zone regard air operation zone iraq take step within control ensure safety operation helicopter flight may used needed inspection technical activity gamma detection without limitation part iraq without area excluded helicopter may also used medical evacuation question aerial imagery unmovic may wish resume use mirage overflight relevant practical arrangement would similar implemented past visa arriving staff issued point entry basis un un certificate no entry exit formality required aircraft passenger manifest provided one hour advance arrival aircraft baghdad no searching unmovic iaea personnel official personal baggage unmovic iaea ensure personnel respect law iraq restricting export certain item example related iraq national cultural heritage unmovic iaea may bring remove iraq item material require including satellite phone equipment respect sample unmovic iaea feasible split sample iraq may receive portion another portion kept reference purpose appropriate organization send sample one laboratory analysis would appreciate confirmation correct reflection talk vienna naturally may need practical arrangement proceeding inspection would expect matter iraq respect sincerely signed signed han blix mohamed elbaradei executive chairman director general united nation monitoring international atomic energy agency verification inspection commission\n"
          ]
        }
      ]
    }
  ]
}